{
 "cells": [
  {
   "cell_type": "code",
   "execution_count": 1,
   "metadata": {},
   "outputs": [],
   "source": [
    "import numpy as np\n",
    "import pandas as pd"
   ]
  },
  {
   "cell_type": "code",
   "execution_count": 2,
   "metadata": {},
   "outputs": [],
   "source": [
    "daily=pd.read_csv('/Users/Alexkilledme/Desktop/Implemented.today/TappedIn/data source leaking check/POB_Data_Export_Emails.csv')"
   ]
  },
  {
   "cell_type": "code",
   "execution_count": 3,
   "metadata": {},
   "outputs": [
    {
     "data": {
      "text/html": [
       "<div>\n",
       "<style scoped>\n",
       "    .dataframe tbody tr th:only-of-type {\n",
       "        vertical-align: middle;\n",
       "    }\n",
       "\n",
       "    .dataframe tbody tr th {\n",
       "        vertical-align: top;\n",
       "    }\n",
       "\n",
       "    .dataframe thead th {\n",
       "        text-align: right;\n",
       "    }\n",
       "</style>\n",
       "<table border=\"1\" class=\"dataframe\">\n",
       "  <thead>\n",
       "    <tr style=\"text-align: right;\">\n",
       "      <th></th>\n",
       "      <th>EmailAddress</th>\n",
       "      <th>FirstName</th>\n",
       "      <th>LastName</th>\n",
       "      <th>Location</th>\n",
       "      <th>LastLoginDate</th>\n",
       "      <th>VisitCount</th>\n",
       "      <th>Unnamed: 6</th>\n",
       "    </tr>\n",
       "  </thead>\n",
       "  <tbody>\n",
       "    <tr>\n",
       "      <th>0</th>\n",
       "      <td>022102@lths.org</td>\n",
       "      <td>NaN</td>\n",
       "      <td>NaN</td>\n",
       "      <td>PelicanHarrys-HomerGlen</td>\n",
       "      <td>27/07/2019 17:16:46</td>\n",
       "      <td>0</td>\n",
       "      <td>NaN</td>\n",
       "    </tr>\n",
       "    <tr>\n",
       "      <th>1</th>\n",
       "      <td>00synyster@gmail.com</td>\n",
       "      <td>NaN</td>\n",
       "      <td>NaN</td>\n",
       "      <td>Forge-Joliet</td>\n",
       "      <td>11/08/2019 23:50:16</td>\n",
       "      <td>0</td>\n",
       "      <td>NaN</td>\n",
       "    </tr>\n",
       "    <tr>\n",
       "      <th>2</th>\n",
       "      <td>0214138@up.edu.mx</td>\n",
       "      <td>NaN</td>\n",
       "      <td>NaN</td>\n",
       "      <td>PelicanHarrys-HomerGlen</td>\n",
       "      <td>15/11/2018 05:06:21</td>\n",
       "      <td>0</td>\n",
       "      <td>NaN</td>\n",
       "    </tr>\n",
       "    <tr>\n",
       "      <th>3</th>\n",
       "      <td>1027gonzalezleonardo@icloud.com</td>\n",
       "      <td>NaN</td>\n",
       "      <td>NaN</td>\n",
       "      <td>Unallocated</td>\n",
       "      <td>11/08/2019 02:47:34</td>\n",
       "      <td>0</td>\n",
       "      <td>NaN</td>\n",
       "    </tr>\n",
       "    <tr>\n",
       "      <th>4</th>\n",
       "      <td>026815@lths.org</td>\n",
       "      <td>NaN</td>\n",
       "      <td>NaN</td>\n",
       "      <td>HamiltonsPub-Lemont</td>\n",
       "      <td>23/04/2019 00:23:35</td>\n",
       "      <td>0</td>\n",
       "      <td>NaN</td>\n",
       "    </tr>\n",
       "  </tbody>\n",
       "</table>\n",
       "</div>"
      ],
      "text/plain": [
       "                      EmailAddress FirstName LastName  \\\n",
       "0                  022102@lths.org       NaN      NaN   \n",
       "1             00synyster@gmail.com       NaN      NaN   \n",
       "2                0214138@up.edu.mx       NaN      NaN   \n",
       "3  1027gonzalezleonardo@icloud.com       NaN      NaN   \n",
       "4                  026815@lths.org       NaN      NaN   \n",
       "\n",
       "                  Location        LastLoginDate  VisitCount  Unnamed: 6  \n",
       "0  PelicanHarrys-HomerGlen  27/07/2019 17:16:46           0         NaN  \n",
       "1             Forge-Joliet  11/08/2019 23:50:16           0         NaN  \n",
       "2  PelicanHarrys-HomerGlen  15/11/2018 05:06:21           0         NaN  \n",
       "3              Unallocated  11/08/2019 02:47:34           0         NaN  \n",
       "4      HamiltonsPub-Lemont  23/04/2019 00:23:35           0         NaN  "
      ]
     },
     "execution_count": 3,
     "metadata": {},
     "output_type": "execute_result"
    }
   ],
   "source": [
    "daily.head()"
   ]
  },
  {
   "cell_type": "code",
   "execution_count": 4,
   "metadata": {},
   "outputs": [],
   "source": [
    "lst_daily=daily['LastLoginDate'].tolist()\n",
    "lst_daily2=[]\n",
    "from datetime import datetime\n",
    "for t in lst_daily:\n",
    "    time_str = t\n",
    "    time = datetime.strptime(time_str, '%d/%m/%Y %H:%M:%S')\n",
    "    t=time.strftime('%m/%d/%Y %H:%M:%S')\n",
    "    lst_daily2.append(t)"
   ]
  },
  {
   "cell_type": "code",
   "execution_count": 5,
   "metadata": {},
   "outputs": [],
   "source": [
    "daily['LastLoginDate']=lst_daily2"
   ]
  },
  {
   "cell_type": "code",
   "execution_count": 6,
   "metadata": {},
   "outputs": [],
   "source": [
    "daily.to_csv('PO_original.csv', index=False)"
   ]
  }
 ],
 "metadata": {
  "kernelspec": {
   "display_name": "Python 3",
   "language": "python",
   "name": "python3"
  },
  "language_info": {
   "codemirror_mode": {
    "name": "ipython",
    "version": 3
   },
   "file_extension": ".py",
   "mimetype": "text/x-python",
   "name": "python",
   "nbconvert_exporter": "python",
   "pygments_lexer": "ipython3",
   "version": "3.7.3"
  }
 },
 "nbformat": 4,
 "nbformat_minor": 2
}
