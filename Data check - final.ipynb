{
 "cells": [
  {
   "cell_type": "code",
   "execution_count": 1,
   "metadata": {},
   "outputs": [],
   "source": [
    "import pandas as pd\n",
    "import csv\n",
    "from pandas.core.frame import DataFrame\n",
    "import numpy as np\n",
    "from collections import defaultdict"
   ]
  },
  {
   "cell_type": "code",
   "execution_count": 2,
   "metadata": {},
   "outputs": [
    {
     "data": {
      "text/plain": [
       "'\\nimport os\\nimport codecs\\n\\nFolder_Path = \\'D:\\\\Work\\\\TappedIn\\\\data source leaking check\\\\Instapage\\'          \\nSaveFile_Path = \\'D:\\\\Work\\\\TappedIn\\\\data source leaking check\\\\Instapage\\'       \\nSaveFile_Name = \\'insta_all.csv\\'              \\n    \\nfile_list =os.listdir(Folder_Path)\\n#Read the first csv file including header\\n\\n\\ndf = pd.read_csv(Folder_Path +\\'/\\'+ file_list[0],error_bad_lines=False)   #UTF-8 by default\\ndf.to_csv(SaveFile_Path+\\'/\\'+ SaveFile_Name,encoding=\"utf_8\",index=False)\\n\\n#iterate csv name in the list and append them\\nfor i in range(1,len(file_list)):\\n    #df = pd.read_csv(Folder_Path + \\'/\\'+ file_list[i],error_bad_lines=False)\\n    df = pd.read_csv(Folder_Path + \\'/\\'+ file_list[i])\\n    #print(file_list[i])\\n    #print(df.shape)\\n    df.to_csv(SaveFile_Path+\\'/\\'+ SaveFile_Name,encoding=\"utf_8\",index=False, header=False, mode=\\'a+\\')\\n'"
      ]
     },
     "execution_count": 2,
     "metadata": {},
     "output_type": "execute_result"
    }
   ],
   "source": [
    "#EDITABLE - merge multiple instapage files into one\n",
    "#note: edit \"Folder_Path\":this is the path where you put insta files in ; \"SaveFile_Path\"; \"SaveFile_Name\"\n",
    "'''\n",
    "import os\n",
    "import codecs\n",
    "\n",
    "Folder_Path = 'D:\\Work\\TappedIn\\data source leaking check\\Instapage'          \n",
    "SaveFile_Path = 'D:\\Work\\TappedIn\\data source leaking check\\Instapage'       \n",
    "SaveFile_Name = 'insta_all.csv'              \n",
    "    \n",
    "file_list =os.listdir(Folder_Path)\n",
    "#Read the first csv file including header\n",
    "\n",
    "\n",
    "df = pd.read_csv(Folder_Path +'/'+ file_list[0],error_bad_lines=False)   #UTF-8 by default\n",
    "df.to_csv(SaveFile_Path+'/'+ SaveFile_Name,encoding=\"utf_8\",index=False)\n",
    "\n",
    "#iterate csv name in the list and append them\n",
    "for i in range(1,len(file_list)):\n",
    "    #df = pd.read_csv(Folder_Path + '/'+ file_list[i],error_bad_lines=False)\n",
    "    df = pd.read_csv(Folder_Path + '/'+ file_list[i])\n",
    "    #print(file_list[i])\n",
    "    #print(df.shape)\n",
    "    df.to_csv(SaveFile_Path+'/'+ SaveFile_Name,encoding=\"utf_8\",index=False, header=False, mode='a+')\n",
    "'''"
   ]
  },
  {
   "cell_type": "code",
   "execution_count": 3,
   "metadata": {},
   "outputs": [],
   "source": [
    "#EDITABLE - read data\n",
    "#note: edit the content between \"\" as the files addresses\n",
    "leads_data = []\n",
    "with open(r\"D:\\Work\\TappedIn\\data source leaking check\\CRM_-_Leads_-_New.csv\") as csvfile: # put in leads file address\n",
    "    csv_reader = csv.reader(csvfile)\n",
    "    leads_header = next(csv_reader)  \n",
    "    for row in csv_reader: \n",
    "        leads_data.append(row)\n",
    "leads = pd.DataFrame(leads_data[0:], columns=leads_header) \n",
    "\n",
    "contacts_data = []\n",
    "with open(r\"D:\\Work\\TappedIn\\data source leaking check\\CRM - Contacts.csv\") as csvfile: # put in leads file address\n",
    "    csv_reader = csv.reader(csvfile)\n",
    "    contacts_header = next(csv_reader)  \n",
    "    for row in csv_reader: \n",
    "        contacts_data.append(row)\n",
    "contacts = pd.DataFrame(contacts_data[0:], columns=contacts_header) \n",
    "\n",
    "script_log_data = []\n",
    "with open(r\"D:\\Work\\TappedIn\\data source leaking check\\script log.csv\") as csvfile: # put in leads file address\n",
    "    csv_reader = csv.reader(csvfile)\n",
    "    script_log_header = next(csv_reader)  \n",
    "    for row in csv_reader: \n",
    "        script_log_data.append(row)\n",
    "script_log = pd.DataFrame(script_log_data[0:], columns=script_log_header) \n",
    "\n",
    "instapage_data = []\n",
    "with open(r\"D:\\Work\\TappedIn\\data source leaking check\\Instapage\\insta_all.csv\") as csvfile: # put in leads file address\n",
    "    csv_reader = csv.reader(csvfile)\n",
    "    instapage_header = next(csv_reader)  \n",
    "    for row in csv_reader: \n",
    "        instapage_data.append(row)\n",
    "instapage = pd.DataFrame(instapage_data[0:], columns=instapage_header) "
   ]
  },
  {
   "cell_type": "code",
   "execution_count": 4,
   "metadata": {},
   "outputs": [
    {
     "name": "stdout",
     "output_type": "stream",
     "text": [
      "(65017, 15)\n",
      "(72272, 12)\n",
      "(114455, 59)\n",
      "(82539, 62)\n"
     ]
    }
   ],
   "source": [
    "print(instapage.shape)\n",
    "print(script_log.shape)\n",
    "print(leads.shape)\n",
    "print(contacts.shape)"
   ]
  },
  {
   "cell_type": "markdown",
   "metadata": {},
   "source": [
    "# 1. pre-processing\n",
    "## 1.1 pre-processing in general: \n",
    "- Script log: Extract 'Visit ID' and 'Wifi Login ID' from 'Query String'\n",
    "- Fill in blanks with 'Unknown'\n",
    "- Extract insta, script and unknown data in Leads Only -  For both Leads and Contacts, filtered out data sources that are not in the data flow(e.g jot form etc,.); \n",
    "- Create new identifier in insta,script, leads called ['Date_Email_location_frequency']\n",
    "- Extract certain date range from insta, script, Leads(this script only for data from 4/15/2019)"
   ]
  },
  {
   "cell_type": "code",
   "execution_count": 5,
   "metadata": {},
   "outputs": [],
   "source": [
    "#1. Script log: Extract 'Visit ID' and 'Wifi Login ID' from 'Query String'\n",
    "q_str=script_log['Query String']\n",
    "v_lst=[]\n",
    "w_lst=[]\n",
    "\n",
    "for i in q_str:\n",
    "    if 'VisitId' in i:\n",
    "        for j in i.split('&'):\n",
    "            if 'VisitId' in j:\n",
    "                v_lst.append(j.split('=')[-1])\n",
    "            else:\n",
    "                continue\n",
    "    else:\n",
    "        v_lst.append('Unknown')\n",
    "\n",
    "for i in q_str:\n",
    "    if 'WiFiLogInId' in i:\n",
    "        for j in i.split('&'):\n",
    "            if 'WiFiLogInId' in j:\n",
    "                w_lst.append(j.split('=')[-1])\n",
    "            else:\n",
    "                continue\n",
    "    else:\n",
    "        w_lst.append('Unknown')"
   ]
  },
  {
   "cell_type": "code",
   "execution_count": 6,
   "metadata": {},
   "outputs": [],
   "source": [
    "script_log['Visit ID'] = v_lst\n",
    "script_log['Wifi Login ID'] = w_lst"
   ]
  },
  {
   "cell_type": "code",
   "execution_count": 7,
   "metadata": {},
   "outputs": [],
   "source": [
    "#save the new script log file with seperated visit ID\n",
    "script_log.to_csv('script_log_seperate_visitID.csv',index=False)"
   ]
  },
  {
   "cell_type": "code",
   "execution_count": 8,
   "metadata": {},
   "outputs": [],
   "source": [
    "#fill in blank with \"unknown\"\n",
    "leads.replace(to_replace='',value='Unknown',inplace=True)\n",
    "contacts.replace(to_replace='',value='Unknown',inplace=True)\n",
    "script_log.replace(to_replace='',value='Unknown',inplace=True)\n",
    "instapage.replace(to_replace='',value='Unknown',inplace=True)"
   ]
  },
  {
   "cell_type": "code",
   "execution_count": 9,
   "metadata": {},
   "outputs": [],
   "source": [
    "#convert date columns in to timestamp format\n",
    "script_log['CST'] = pd.to_datetime(script_log['CST']).dt.date\n",
    "leads['Created Time'] = pd.to_datetime(leads['Created Time']).dt.date\n",
    "contacts['Created Time'] = pd.to_datetime(contacts['Created Time']).dt.date\n",
    "instapage['Date'] = pd.to_datetime(instapage['Date']).dt.date"
   ]
  },
  {
   "cell_type": "code",
   "execution_count": 10,
   "metadata": {},
   "outputs": [],
   "source": [
    "#sort by date\n",
    "script_log.sort_values(by='CST',ascending=False, inplace=True)\n",
    "leads.sort_values(by='Created Time',ascending=False, inplace=True)\n",
    "contacts.sort_values(by='Created Time',ascending=False, inplace=True)\n",
    "instapage.sort_values(by='Date',ascending=False, inplace=True)"
   ]
  },
  {
   "cell_type": "code",
   "execution_count": 11,
   "metadata": {},
   "outputs": [
    {
     "data": {
      "text/plain": [
       "(100222, 9)"
      ]
     },
     "execution_count": 11,
     "metadata": {},
     "output_type": "execute_result"
    }
   ],
   "source": [
    "#3.Extract insta, script and unknown data in Leads\n",
    "leads = leads[['LEADID','Email','Created Time', 'Location', 'TappedIn Data Source','Visit Id','WiFi Log In Id','Location Guest','Flag']]\n",
    "#leads_new['TappedIn Data Source'].unique()\n",
    "leads_data_source_filter=['WiFi On Tap - Instapage','Instapage','WiFi On Tap - TappedIn Redirect - Presence Orb',\n",
    "                       'WiFi On Tap - TappedIn Redirect - Precense Orb','Justin App','Tapped Innovations','Unknown']\n",
    "leads=leads.loc[leads['TappedIn Data Source'].isin(leads_data_source_filter)]\n",
    "leads.shape"
   ]
  },
  {
   "cell_type": "code",
   "execution_count": 12,
   "metadata": {},
   "outputs": [],
   "source": [
    "#4. Create new identifier in insta,script and leads called ['Date_Email_location_frequency']\n",
    "script_log['Date_Email_Location']=script_log['CST'].map(str)+'_'+script_log['Email']+'_'+script_log['Location Id']\n",
    "instapage['Date_Email_Location']= instapage[\"Date\"].map(str) +'_'+instapage[\"email\"]+'_'+instapage['location']\n",
    "leads['Date_Email_Location']=leads['Created Time'].map(str)+'_'+leads['Email']+'_'+leads['Location']"
   ]
  },
  {
   "cell_type": "code",
   "execution_count": 13,
   "metadata": {},
   "outputs": [],
   "source": [
    "def freq(record):\n",
    "    record_count[record]+=1\n",
    "    return str(record_count[record])\n",
    "\n",
    "def count_record_freq(data):\n",
    "    data['frequency'] = data.apply(lambda x:freq(x['Date_Email_Location']), axis=1)"
   ]
  },
  {
   "cell_type": "code",
   "execution_count": 14,
   "metadata": {},
   "outputs": [],
   "source": [
    "record_count = defaultdict(int) #int() generate 0\n",
    "count_record_freq(script_log)\n",
    "record_count = defaultdict(int) #int() generate 0\n",
    "count_record_freq(instapage)\n",
    "record_count = defaultdict(int) #int() generate 0\n",
    "count_record_freq(leads)"
   ]
  },
  {
   "cell_type": "code",
   "execution_count": 15,
   "metadata": {},
   "outputs": [],
   "source": [
    "script_log['Date_Email_Location_Freq']=script_log['Date_Email_Location']+'_'+script_log['frequency']\n",
    "instapage['Date_Email_Location_Freq']= instapage['Date_Email_Location']+'_'+instapage['frequency']\n",
    "leads['Date_Email_Location_Freq']=leads['Date_Email_Location']+'_'+leads['frequency']"
   ]
  },
  {
   "cell_type": "code",
   "execution_count": 16,
   "metadata": {},
   "outputs": [],
   "source": [
    "#5. Extract certain date range from insta, script, Leads and Contacts (this script only for data from 4/15/2019)\n",
    "instapage_new=instapage.loc[instapage['Date']>pd.to_datetime('2019-04-14')].reset_index(drop=True)\n",
    "script_log_new=script_log.loc[script_log['CST']>pd.to_datetime('2019-04-14')].reset_index(drop=True)\n",
    "leads_new=leads.loc[leads['Created Time']>pd.to_datetime('2019-04-14')].reset_index(drop=True)\n",
    "contacts_new=contacts.loc[contacts['Created Time']>pd.to_datetime('2019-04-14')].reset_index(drop=True)"
   ]
  },
  {
   "cell_type": "code",
   "execution_count": 17,
   "metadata": {},
   "outputs": [
    {
     "name": "stdout",
     "output_type": "stream",
     "text": [
      "(38311, 18)\n",
      "(38301, 17)\n",
      "(74498, 12)\n",
      "(41592, 62)\n"
     ]
    }
   ],
   "source": [
    "print(instapage_new.shape)\n",
    "print(script_log_new.shape)\n",
    "print(leads_new.shape)\n",
    "print(contacts_new.shape)"
   ]
  },
  {
   "cell_type": "code",
   "execution_count": 18,
   "metadata": {},
   "outputs": [],
   "source": [
    "#save files\n",
    "instapage_new.to_csv('instapage_new.csv',index=False)\n",
    "script_log_new.to_csv('script_log_new.csv', index=False)\n",
    "leads_new.to_csv('leads_new.csv', index=False)\n",
    "#contacts_new.to_csv('contacts_new.csv', index=False)"
   ]
  },
  {
   "cell_type": "markdown",
   "metadata": {},
   "source": [
    "## 1.2 Preprocessing for Leads\n",
    "Figure out and filling out unknown sources in Leads(prepare for the data check in the next step)"
   ]
  },
  {
   "cell_type": "markdown",
   "metadata": {},
   "source": [
    "#### Senerio 1: For leads records with unknown ['TappedIn Data Source'] & known ['Visit Id']\n",
    "\n",
    "- Correct spelling: change \"WiFi On Tap - TappedIn Redirect - Precense Orb\" to \"WiFi On Tap - TappedIn Redirect - Presence Orb\"\n",
    "- Records with ['Visit Id''] matched with Redirect Script['Visit id'] but not with Instapage['Visit id'] ---- filling out ['Tappedin Data Source'] with 'Filled Redirect Script'\n",
    "- Records with ['Visit Id''] matched with both Redirect Script['Visit id'] and Instapage['Visit id'] ---- filling out ['Tappedin Data Source'] with 'Filled instapage'\n",
    "- Records  with ['Visit Id'] matched with Instapage['Visit id'] but not with Redirect Script['Visit id'] ----- filling out ['Tappedin Data Source'] with 'Filled Instapage only'\n",
    "- Rest of records would have ['Tappedin Data Source'] keep as 'Unknown'"
   ]
  },
  {
   "cell_type": "code",
   "execution_count": 19,
   "metadata": {},
   "outputs": [],
   "source": [
    "leads_new.loc[leads_new['TappedIn Data Source']=='WiFi On Tap - TappedIn Redirect - Precense Orb', \n",
    "              ['TappedIn Data Source']] = 'WiFi On Tap - TappedIn Redirect - Presence Orb'"
   ]
  },
  {
   "cell_type": "code",
   "execution_count": 20,
   "metadata": {},
   "outputs": [],
   "source": [
    "leads_unknown_source=leads_new.loc[leads_new['TappedIn Data Source']=='Unknown']\n",
    "leads_2=leads_unknown_source.loc[(leads_unknown_source['Visit Id']!='Unknown') \n",
    "                                 & (leads_unknown_source['Visit Id']!='[VisitId]')]"
   ]
  },
  {
   "cell_type": "code",
   "execution_count": 21,
   "metadata": {},
   "outputs": [],
   "source": [
    "script_visit_id=script_log_new['Visit ID'].tolist()\n",
    "instapage_visit_id=instapage_new['Visit ID'].tolist()\n",
    "leads_2_visit_id=leads_2['Visit Id'].tolist()"
   ]
  },
  {
   "cell_type": "code",
   "execution_count": 22,
   "metadata": {},
   "outputs": [
    {
     "name": "stderr",
     "output_type": "stream",
     "text": [
      "C:\\Users\\Martin\\Anaconda3\\lib\\site-packages\\IPython\\core\\interactiveshell.py:3326: SettingWithCopyWarning: \n",
      "A value is trying to be set on a copy of a slice from a DataFrame\n",
      "\n",
      "See the caveats in the documentation: http://pandas.pydata.org/pandas-docs/stable/user_guide/indexing.html#returning-a-view-versus-a-copy\n",
      "  exec(code_obj, self.user_global_ns, self.user_ns)\n"
     ]
    }
   ],
   "source": [
    "for i in leads_2.index:\n",
    "    if ((leads_2['Visit Id'][i] in script_visit_id) and (leads_2['Visit Id'][i] not in instapage_visit_id)):\n",
    "        leads_2['TappedIn Data Source'][i] = 'Filled Redirect Script'"
   ]
  },
  {
   "cell_type": "code",
   "execution_count": 23,
   "metadata": {},
   "outputs": [],
   "source": [
    "for i in leads_2.index:\n",
    "    if ((leads_2['Visit Id'][i] in script_visit_id) and (leads_2['Visit Id'][i] in instapage_visit_id)):\n",
    "        leads_2['TappedIn Data Source'][i] = 'Filled Instapage'"
   ]
  },
  {
   "cell_type": "code",
   "execution_count": 24,
   "metadata": {},
   "outputs": [],
   "source": [
    "for i in leads_2.index:\n",
    "    if ((leads_2['Visit Id'][i] not in script_visit_id) and (leads_2['Visit Id'][i] in instapage_visit_id)):\n",
    "        leads_2['TappedIn Data Source'][i] = 'Filled Instapage(only)'"
   ]
  },
  {
   "cell_type": "code",
   "execution_count": 25,
   "metadata": {},
   "outputs": [],
   "source": [
    "leads_2_index=leads_2.index.tolist()"
   ]
  },
  {
   "cell_type": "code",
   "execution_count": 26,
   "metadata": {},
   "outputs": [],
   "source": [
    "for i in leads_2_index:\n",
    "    leads_new['TappedIn Data Source'][i]=leads_2['TappedIn Data Source'][i]"
   ]
  },
  {
   "cell_type": "markdown",
   "metadata": {},
   "source": [
    "#### Scenario 2: For leads records with unknown ['TappedIn Data Source'] & unknown ['Visit Id']\n",
    "- Repeat the solution in Scenario 1, just change ['Visit ID'] with ['Date_Email_location_frequency']"
   ]
  },
  {
   "cell_type": "code",
   "execution_count": 27,
   "metadata": {},
   "outputs": [],
   "source": [
    "leads_3=leads_unknown_source.loc[(leads_unknown_source['Visit Id']=='Unknown') \n",
    "                                 | (leads_unknown_source['Visit Id']=='[VisitId]')]"
   ]
  },
  {
   "cell_type": "code",
   "execution_count": 28,
   "metadata": {},
   "outputs": [],
   "source": [
    "script_DELF=script_log_new['Date_Email_Location_Freq'].tolist()\n",
    "instapage_DELF=instapage_new['Date_Email_Location_Freq'].tolist()\n",
    "leads_3_DELF=leads_3['Date_Email_Location_Freq'].tolist()"
   ]
  },
  {
   "cell_type": "code",
   "execution_count": 29,
   "metadata": {},
   "outputs": [],
   "source": [
    "for i in leads_3.index:\n",
    "    if ((leads_3['Date_Email_Location_Freq'][i] in script_DELF) and (leads_3['Date_Email_Location_Freq'][i] not in instapage_DELF)):\n",
    "        leads_3['TappedIn Data Source'][i] = 'Filled Redirect Script'"
   ]
  },
  {
   "cell_type": "code",
   "execution_count": 30,
   "metadata": {},
   "outputs": [],
   "source": [
    "for i in leads_3.index:\n",
    "    if ((leads_3['Date_Email_Location_Freq'][i] in script_DELF) and (leads_3['Date_Email_Location_Freq'][i] in instapage_DELF)):\n",
    "        leads_3['TappedIn Data Source'][i] = 'Filled Instapage'"
   ]
  },
  {
   "cell_type": "code",
   "execution_count": 31,
   "metadata": {},
   "outputs": [],
   "source": [
    "for i in leads_3.index:\n",
    "    if ((leads_3['Date_Email_Location_Freq'][i] not in script_DELF) and (leads_3['Date_Email_Location_Freq'][i] in instapage_DELF)):\n",
    "        leads_3['TappedIn Data Source'][i] = 'Filled Instapage (only)'"
   ]
  },
  {
   "cell_type": "code",
   "execution_count": 32,
   "metadata": {},
   "outputs": [],
   "source": [
    "leads_3_index=leads_3.index.tolist()\n",
    "for i in leads_3_index:\n",
    "    leads_new['TappedIn Data Source'][i]=leads_3['TappedIn Data Source'][i]"
   ]
  },
  {
   "cell_type": "code",
   "execution_count": 33,
   "metadata": {},
   "outputs": [],
   "source": [
    "#save file\n",
    "leads_new.to_csv('leads_new(preprocessed).csv',index=False)"
   ]
  },
  {
   "cell_type": "markdown",
   "metadata": {},
   "source": [
    "## 1.3 Preprocessing for CRM Contacts\n",
    "Extract useful info in CRM Contacts dataset"
   ]
  },
  {
   "cell_type": "code",
   "execution_count": 34,
   "metadata": {},
   "outputs": [],
   "source": [
    "#Extract useful info from Contacts\n",
    "contacts_new = contacts_new[['CONTACTID','Email','Created Time', 'Location', 'Email Opt Out','User Type','User ID','Data Source']]"
   ]
  },
  {
   "cell_type": "code",
   "execution_count": 35,
   "metadata": {},
   "outputs": [],
   "source": [
    "contacts_new['Data Source']='CRM Contacts'"
   ]
  },
  {
   "cell_type": "code",
   "execution_count": 36,
   "metadata": {},
   "outputs": [
    {
     "data": {
      "text/plain": [
       "(41592, 8)"
      ]
     },
     "execution_count": 36,
     "metadata": {},
     "output_type": "execute_result"
    }
   ],
   "source": [
    "contacts_new.shape"
   ]
  },
  {
   "cell_type": "code",
   "execution_count": 37,
   "metadata": {},
   "outputs": [],
   "source": [
    "contacts_new.to_csv('contacts_new.csv', index=False)"
   ]
  },
  {
   "cell_type": "markdown",
   "metadata": {},
   "source": [
    "# 2. Data check I (for redirect script, instapage to Leads)\n",
    "## 2.1: script ->instapage\n",
    "\n",
    "#### 2.1.1 Records that are transferred = part 1 + part 2 \n",
    "- part 1: (for insta records with  ['Visit ID'] in insta != 'Unknown' and != '[Visit ID]', use ['VisitID'] as identifier): \n",
    "    - Transferred records are with common ['VisitID'] in both script and instapage\n",
    "- part 2: (for insta records with  ['Visit ID'] in insta == 'Unknown' or == '[Visit ID]', use ['Date_Email_location_frequency'] as identifier]): \n",
    "    - Transferred records are with common ['Date_Email_location_frequency'] in both script and instapage\n",
    " \n",
    "#### 2.1.2 Creat new columns (in each of the data source files)\n",
    "During 2.1.1, to help with visualization later on, we also create some new columns in each of the data source files, which including:\n",
    "- Script To Insta Based On Visit ID\n",
    "- Script To Insta Based On Date_Email_Location_Freq ID\n",
    "- Script TO Insta"
   ]
  },
  {
   "cell_type": "code",
   "execution_count": 38,
   "metadata": {},
   "outputs": [],
   "source": [
    "#read data (After first time of running this script, you can start from here directly)\n",
    "#HOW TO USE: 1. delete \"#\" before each line to make them excutable\n",
    "#leads_new_test= pd.read_csv(\"leads_new(preprocessed).csv\")\n",
    "#script_log_new= pd.read_csv(\"script_log_new.csv\")\n",
    "#instapage_new= pd.read_csv(\"instapage_new.csv\")"
   ]
  },
  {
   "cell_type": "code",
   "execution_count": 39,
   "metadata": {},
   "outputs": [],
   "source": [
    "#2.1.1 The number of records that are transferred = part 1 + part 2\n",
    "#part 1: if 'VisitID' != unknown and 'VisitID' != [visitID]\n",
    "insta_pt1=instapage_new.loc[(instapage_new['Visit ID']!='Unknown') & (instapage_new['Visit ID']!='[VisitId]')]"
   ]
  },
  {
   "cell_type": "code",
   "execution_count": 40,
   "metadata": {},
   "outputs": [],
   "source": [
    "insta_pt1_lst=insta_pt1['Visit ID'].tolist()\n",
    "script_vid_lst=script_log_new['Visit ID'].tolist()"
   ]
  },
  {
   "cell_type": "code",
   "execution_count": 41,
   "metadata": {},
   "outputs": [
    {
     "name": "stdout",
     "output_type": "stream",
     "text": [
      "20091\n",
      "18567\n",
      "295\n"
     ]
    }
   ],
   "source": [
    "list3 = [] #common factor - target list\n",
    "list4 = [] #in script but not in insta\n",
    "list5 = [] #in insta but not in script\n",
    "\n",
    "#common factor in both lists\n",
    "list3 = [x for x in insta_pt1_lst if x in script_vid_lst]\n",
    "\n",
    "#factors in script but not in insta(possible reason: 1.insta visit id missed 2. didn't transfer from script to insta)\n",
    "list4 = [x for x in script_vid_lst if x not in insta_pt1_lst] \n",
    "\n",
    "#factors in insta but not in script \n",
    "list5 = [x for x in insta_pt1_lst if x not in script_vid_lst] \n",
    "        \n",
    "print(len(list3))\n",
    "print(len(list4))\n",
    "print(len(list5))"
   ]
  },
  {
   "cell_type": "code",
   "execution_count": 42,
   "metadata": {},
   "outputs": [],
   "source": [
    "#craete 'Script To Insta Based On Visit ID' column in script log dataset \n",
    "script_log_index_lst=[0] * script_log_new.shape[0]\n",
    "for i in script_log_new.index:\n",
    "    if script_log_new['Visit ID'][i] in list3:\n",
    "        script_log_index_lst[i]=1\n",
    "script_log_new['Script To Insta Based On Visit ID']=script_log_index_lst"
   ]
  },
  {
   "cell_type": "code",
   "execution_count": 43,
   "metadata": {},
   "outputs": [],
   "source": [
    "#craete 'Script To Insta Based On Visit ID' column in instapage dataset\n",
    "instapage_index_lst=[0] * instapage_new.shape[0]\n",
    "for i in instapage_new.index:\n",
    "    if instapage_new['Visit ID'][i] in list3:\n",
    "        instapage_index_lst[i]=1\n",
    "instapage_new['Script To Insta Based On Visit ID']=instapage_index_lst"
   ]
  },
  {
   "cell_type": "code",
   "execution_count": 44,
   "metadata": {},
   "outputs": [],
   "source": [
    "#filled 'NA' in Leads['Script To Insta Based On Visit ID']\n",
    "leads_new['Script To Insta Based On Visit ID']='NA'"
   ]
  },
  {
   "cell_type": "code",
   "execution_count": 45,
   "metadata": {},
   "outputs": [],
   "source": [
    "#part 2: if ['Visit ID'] in insta == 'Unknown' or == '[Visit ID]'\n",
    "insta_pt2=instapage_new.loc[(instapage_new['Visit ID']=='Unknown') | (instapage_new['Visit ID']=='[VisitId]')]"
   ]
  },
  {
   "cell_type": "code",
   "execution_count": 46,
   "metadata": {},
   "outputs": [],
   "source": [
    "insta_pt2_lst=insta_pt2['Date_Email_Location_Freq'].tolist()\n",
    "script_DELF_lst=script_log_new['Date_Email_Location_Freq'].tolist()"
   ]
  },
  {
   "cell_type": "code",
   "execution_count": 47,
   "metadata": {},
   "outputs": [
    {
     "name": "stdout",
     "output_type": "stream",
     "text": [
      "7278\n",
      "31023\n",
      "10647\n"
     ]
    }
   ],
   "source": [
    "list0 = [] #common factor -target list\n",
    "list1 = [] #in script but not in insta\n",
    "list2 = [] #in insta but not in script\n",
    "\n",
    "#common factor in both lists\n",
    "list0 = [x for x in insta_pt2_lst if x in script_DELF_lst]\n",
    "\n",
    "#factors in script but not in insta(possible reason: 1.insta visit id missed 2. didn't transfer from script to insta)\n",
    "list1 = [x for x in script_DELF_lst if x not in insta_pt2_lst] \n",
    "\n",
    "#factors in insta but not in script \n",
    "list2 = [x for x in insta_pt2_lst if x not in script_DELF_lst] \n",
    "        \n",
    "print(len(list0))\n",
    "print(len(list1))\n",
    "print(len(list2))"
   ]
  },
  {
   "cell_type": "code",
   "execution_count": 48,
   "metadata": {},
   "outputs": [],
   "source": [
    "#craete 'Script To Insta Based On Date_Email_Location_Freq ID' column in script log dataset \n",
    "script_log_index_lst=[0] * script_log_new.shape[0]\n",
    "for i in script_log_new.index:\n",
    "    if script_log_new['Date_Email_Location_Freq'][i] in list0:\n",
    "        script_log_index_lst[i]=1\n",
    "script_log_new['Script To Insta Based On Date_Email_Location_Freq ID']=script_log_index_lst"
   ]
  },
  {
   "cell_type": "code",
   "execution_count": 49,
   "metadata": {},
   "outputs": [],
   "source": [
    "#craete 'Script To Insta Based On Date_Email_Location_Freq ID' column in instapage dataset \n",
    "instapage_index_lst=[0] * instapage_new.shape[0]\n",
    "for i in instapage_new.index:\n",
    "    if instapage_new['Date_Email_Location_Freq'][i] in list0:\n",
    "        instapage_index_lst[i]=1\n",
    "instapage_new['Script To Insta Based On Date_Email_Location_Freq ID']=instapage_index_lst"
   ]
  },
  {
   "cell_type": "code",
   "execution_count": 50,
   "metadata": {},
   "outputs": [],
   "source": [
    "#filled 'NA' in Leads['Script To Insta Based On Date_Email_Location_Freq ID']\n",
    "leads_new['Script To Insta Based On Date_Email_Location_Freq ID']='NA'"
   ]
  },
  {
   "cell_type": "code",
   "execution_count": 51,
   "metadata": {},
   "outputs": [],
   "source": [
    "#create ['Script To Insta'] in script log dataset\n",
    "script_log_index_lst=[0]*script_log_new.shape[0]\n",
    "for i in script_log_new.index:\n",
    "    if (script_log_new['Script To Insta Based On Visit ID'][i]==1) or (script_log_new['Script To Insta Based On Date_Email_Location_Freq ID'][i]==1):\n",
    "        script_log_index_lst[i]=1\n",
    "script_log_new['Script To Insta']=script_log_index_lst"
   ]
  },
  {
   "cell_type": "code",
   "execution_count": 52,
   "metadata": {},
   "outputs": [],
   "source": [
    "#create ['Script To Insta'] in instapage dataset\n",
    "instapage_index_lst=[0]*instapage_new.shape[0]\n",
    "for i in instapage_new.index:\n",
    "    if (instapage_new['Script To Insta Based On Visit ID'][i]==1) or (instapage_new['Script To Insta Based On Date_Email_Location_Freq ID'][i]==1):\n",
    "        instapage_index_lst[i]=1\n",
    "instapage_new['Script To Insta']=instapage_index_lst"
   ]
  },
  {
   "cell_type": "code",
   "execution_count": 53,
   "metadata": {},
   "outputs": [],
   "source": [
    "#fill in 'NA' to ['Script TO Insta'] in Leads dataset\n",
    "leads_new['Script To Insta']='NA'"
   ]
  },
  {
   "cell_type": "markdown",
   "metadata": {},
   "source": [
    "## 2.2 Instapage->Leads\n",
    "\n",
    "#### 2.2.1 Records that are transferred\n",
    "The leads records that are transferred from Instapage to Leads are with ['Tappedin Data Source']== 'Filled Instapage' or == 'WiFi On Tap - Instapage' or == 'Filled instapage (only)' or == 'instapage')\n",
    "\n",
    "#### 2.2.2 Records that are not transferred\n",
    "- S1 = insta records with known ['Visit ID'] that are not in leads(insta related) or insta records with unknown ['Visit ID']\n",
    "- Considering leads records with ['Visit ID']='Unknown', If  S2= records in S1 with ['Date_Email_location_frequency'] can't be found in leads(insta related)['Date_Email_location_frequency'], records that are not transferred = S2\n",
    "\n",
    "#### 2.2.3 Creat new columns (in each of the data source files)\n",
    "During above process, to help with visualization later on, we also create some new columns in each of the data source files, which including:\n",
    "- Insta To Leads Based On Visit ID\n",
    "- Insta To Leads Based On Date_Email_Location_Freq ID\n",
    "- Insta To Leads"
   ]
  },
  {
   "cell_type": "code",
   "execution_count": 54,
   "metadata": {},
   "outputs": [
    {
     "data": {
      "text/plain": [
       "array(['Filled Redirect Script', 'Unknown', 'Filled Instapage',\n",
       "       'Filled Instapage(only)', 'WiFi On Tap - Instapage', 'Instapage',\n",
       "       'WiFi On Tap - TappedIn Redirect - Presence Orb',\n",
       "       'Tapped Innovations'], dtype=object)"
      ]
     },
     "execution_count": 54,
     "metadata": {},
     "output_type": "execute_result"
    }
   ],
   "source": [
    "leads_new['TappedIn Data Source'].unique()"
   ]
  },
  {
   "cell_type": "code",
   "execution_count": 55,
   "metadata": {},
   "outputs": [],
   "source": [
    "#2.2.1 Records that are transferred\n",
    "insta_2_leads_records=leads_new.loc[(leads_new['TappedIn Data Source']=='Filled Instapage') |\n",
    "                                    (leads_new['TappedIn Data Source']=='WiFi On Tap - Instapage') |\n",
    "                                    (leads_new['TappedIn Data Source']=='Filled Instapage(only)') |\n",
    "                                    (leads_new['TappedIn Data Source']=='Instapage')]"
   ]
  },
  {
   "cell_type": "code",
   "execution_count": 56,
   "metadata": {},
   "outputs": [],
   "source": [
    "#create ['Insta to Leads'] in leads dataset\n",
    "leads_index_lst=[0]*leads_new.shape[0]\n",
    "for i in leads_new.index:\n",
    "    if (leads_new['TappedIn Data Source'][i]=='Filled Instapage') or (leads_new['TappedIn Data Source'][i]=='WiFi On Tap - Instapage') or (leads_new['TappedIn Data Source'][i]=='Filled Instapage(only)') or (leads_new['TappedIn Data Source'][i]=='Instapage'):\n",
    "        leads_index_lst[i]=1\n",
    "leads_new['Insta To Leads']=leads_index_lst"
   ]
  },
  {
   "cell_type": "code",
   "execution_count": 57,
   "metadata": {},
   "outputs": [],
   "source": [
    "#Create ['Insta To Leads'] and filled 'NA' in script log dataset\n",
    "script_log_new['Insta To Leads']='NA'"
   ]
  },
  {
   "cell_type": "code",
   "execution_count": 58,
   "metadata": {},
   "outputs": [],
   "source": [
    "#2.2.2 Records that are not transferred\n",
    "insta_2_leads_records_vid_lst= insta_2_leads_records['Visit Id'].tolist() #leads records (insta related) \n",
    "                                                                          #and have unknown and unknown id\n",
    "instapage_new_known_id_lst=instapage_new.loc[(instapage_new['Visit ID']!='Unknown')&(instapage_new['Visit ID']!='[VisitId]')]['Visit ID'].tolist()"
   ]
  },
  {
   "cell_type": "code",
   "execution_count": 59,
   "metadata": {},
   "outputs": [],
   "source": [
    "#factors in insta(with known id) but not in leads(insta related)\n",
    "list7 = [x for x in instapage_new_known_id_lst if x not in insta_2_leads_records_vid_lst] "
   ]
  },
  {
   "cell_type": "code",
   "execution_count": 60,
   "metadata": {},
   "outputs": [],
   "source": [
    "lst=[]\n",
    "for i in instapage_new.index:\n",
    "    if (instapage_new['Visit ID'][i] in list7) or (instapage_new['Visit ID'][i]=='Unknown') or (instapage_new['Visit ID'][i]=='[VisitId]'):\n",
    "        lst.append(i)\n",
    "s1_insta_2_leads=instapage_new.iloc[lst]"
   ]
  },
  {
   "cell_type": "code",
   "execution_count": 61,
   "metadata": {},
   "outputs": [],
   "source": [
    "s1_insta_2_leads_DELF=s1_insta_2_leads['Date_Email_Location_Freq'].tolist()\n",
    "insta_2_leads_records_DELF=insta_2_leads_records['Date_Email_Location_Freq'].tolist()"
   ]
  },
  {
   "cell_type": "code",
   "execution_count": 62,
   "metadata": {},
   "outputs": [],
   "source": [
    "#factors in S1 DELF but not in leads(insta related) DELF\n",
    "list8 = [x for x in s1_insta_2_leads_DELF if x not in insta_2_leads_records_DELF] "
   ]
  },
  {
   "cell_type": "code",
   "execution_count": 63,
   "metadata": {},
   "outputs": [],
   "source": [
    "lst=[]\n",
    "for i in instapage_new.index:\n",
    "    if instapage_new['Date_Email_Location_Freq'][i] in list8:\n",
    "        lst.append(i)\n",
    "not_transferred_insta_2_leads_record=instapage_new.loc[lst]"
   ]
  },
  {
   "cell_type": "code",
   "execution_count": 64,
   "metadata": {},
   "outputs": [],
   "source": [
    "#2.1.3 Creat new columns (in each of the data source files)\n",
    "#create ['Insta To Leads'] in Instapage\n",
    "instapage_index_lst=[1]*instapage_new.shape[0]\n",
    "for i in instapage_new.index:\n",
    "    if i in not_transferred_insta_2_leads_record.index.tolist():\n",
    "        instapage_index_lst[i]=0\n",
    "instapage_new['Insta To Leads']=instapage_index_lst"
   ]
  },
  {
   "cell_type": "code",
   "execution_count": 65,
   "metadata": {},
   "outputs": [],
   "source": [
    "#create ['Insta To Leads Based On Visit ID'] in Instapage dataset\n",
    "instapage_index_lst=[0]*instapage_new.shape[0]\n",
    "for i in instapage_new.index:\n",
    "    if (instapage_new['Insta To Leads'][i]==1) and (instapage_new['Visit ID'][i]!='Unknown') and (instapage_new['Visit ID'][i]!='[VisitId]'):\n",
    "        instapage_index_lst[i]=1\n",
    "instapage_new['Insta To Leads Based On Visit ID']=instapage_index_lst"
   ]
  },
  {
   "cell_type": "code",
   "execution_count": 66,
   "metadata": {},
   "outputs": [],
   "source": [
    "#create ['Insta To Leads Based On Visit ID'] in Leads dataset \n",
    "insta_to_leads_based_on_vid_in_instaSet=instapage_new.loc[instapage_new['Insta To Leads Based On Visit ID']==1]['Visit ID'].tolist()\n",
    "leads_index_lst=[0]*leads_new.shape[0]\n",
    "for i in leads_new.index:\n",
    "    if leads_new['Visit Id'][i] in insta_to_leads_based_on_vid_in_instaSet:\n",
    "        leads_index_lst[i]=1\n",
    "leads_new['Insta To Leads Based On Visit ID']=leads_index_lst"
   ]
  },
  {
   "cell_type": "code",
   "execution_count": 67,
   "metadata": {},
   "outputs": [],
   "source": [
    "#create ['Insta To Leads Based On Visit ID'] in Script dataset and fill in with 'NA'\n",
    "script_log_new['Insta To Leads Based On Visit ID']='NA'"
   ]
  },
  {
   "cell_type": "code",
   "execution_count": 68,
   "metadata": {},
   "outputs": [],
   "source": [
    "#create['Insta To Leads Based On Date_Email_Location_Freq ID'] in instapage dataset\n",
    "instapage_index_lst=[0]*instapage_new.shape[0]\n",
    "for i in instapage_new.index:\n",
    "    if (instapage_new['Insta To Leads'][i]==1) and ((instapage_new['Visit ID'][i]=='Unknown') or (instapage_new['Visit ID'][i]=='[VisitId]')):\n",
    "        instapage_index_lst[i]=1\n",
    "instapage_new['Insta To Leads Based On Date_Email_Location_Freq ID']=instapage_index_lst"
   ]
  },
  {
   "cell_type": "code",
   "execution_count": 69,
   "metadata": {},
   "outputs": [],
   "source": [
    "#create ['Insta To Leads Based On Date_Email_Location_Freq ID'] in Leads dataset\n",
    "insta_to_leads_based_on_wenyiID_in_instaSet=instapage_new.loc[instapage_new['Insta To Leads Based On Date_Email_Location_Freq ID']==1]['Visit ID'].tolist()\n",
    "leads_index_lst=[0]*leads_new.shape[0]\n",
    "for i in leads_new.index:\n",
    "    if leads_new['Visit Id'][i] in insta_to_leads_based_on_wenyiID_in_instaSet:\n",
    "        leads_index_lst[i]=1\n",
    "leads_new['Insta To Leads Based On Date_Email_Location_Freq ID']=leads_index_lst"
   ]
  },
  {
   "cell_type": "code",
   "execution_count": 70,
   "metadata": {},
   "outputs": [],
   "source": [
    "#create ['Insta To Leads Based On Date_Email_Location_Freq ID'] in Script dataset and fill in with 'NA'\n",
    "script_log_new['Insta To Leads Based On Date_Email_Location_Freq ID']='NA'"
   ]
  },
  {
   "cell_type": "markdown",
   "metadata": {},
   "source": [
    "## 2.3 Script->Leads\n",
    "\n",
    "#### 2.3.1 Records that are transferred\n",
    "The leads records that are transferred from Script to Leads are with ['Tappedin Data Source']=='WiFi On Tap - TappedIn Redirect - Presence Orb'' or == 'WiFi On Tap - TappedIn Redirect - Precense Orb' or == 'Redirect Script' or ==''Tapped Innovations')\n",
    "\n",
    "#### 2.3.2 Records that are not transferred\n",
    "- S1 = script records with known ['Visit ID'] that are not in leads(script related) or script records with unknown ['Visit ID']\n",
    "- Considering leads records with ['Visit ID']='Unknown', If  S2= records in S1 with ['Date_Email_location_frequency'] can't be found in leads['Date_Email_location_frequency'], records that are not transferred = S2\n",
    "\n",
    "#### 2.3.3 Creat new columns (in each of the data source files)\n",
    "During above process, to help with visualization later on, we also create some new columns in each of the data source files, which including:\n",
    "- Script To Leads Based On Visit ID\n",
    "- Script To Leads Based On Date_Email_Location_Freq ID\n",
    "- Script To Leads"
   ]
  },
  {
   "cell_type": "code",
   "execution_count": 71,
   "metadata": {},
   "outputs": [
    {
     "data": {
      "text/plain": [
       "array(['Filled Redirect Script', 'Unknown', 'Filled Instapage',\n",
       "       'Filled Instapage(only)', 'WiFi On Tap - Instapage', 'Instapage',\n",
       "       'WiFi On Tap - TappedIn Redirect - Presence Orb',\n",
       "       'Tapped Innovations'], dtype=object)"
      ]
     },
     "execution_count": 71,
     "metadata": {},
     "output_type": "execute_result"
    }
   ],
   "source": [
    "leads_new['TappedIn Data Source'].unique()"
   ]
  },
  {
   "cell_type": "code",
   "execution_count": 72,
   "metadata": {},
   "outputs": [],
   "source": [
    "#2.3.1 Records that are transferred\n",
    "script_2_leads_records=leads_new.loc[(leads_new['TappedIn Data Source']=='Filled Redirect Script') |\n",
    "                                    (leads_new['TappedIn Data Source']=='WiFi On Tap - TappedIn Redirect - Presence Orb') |\n",
    "                                    (leads_new['TappedIn Data Source']=='Tapped Innovations')]"
   ]
  },
  {
   "cell_type": "code",
   "execution_count": 73,
   "metadata": {},
   "outputs": [],
   "source": [
    "#create ['Script to Leads'] in leads dataset\n",
    "leads_index_lst=[0]*leads_new.shape[0]\n",
    "for i in leads_new.index:\n",
    "    if (leads_new['TappedIn Data Source'][i]=='Filled Redirect Script') or (leads_new['TappedIn Data Source'][i]=='WiFi On Tap - TappedIn Redirect - Presence Orb') or (leads_new['TappedIn Data Source'][i]=='Tapped Innovations'):\n",
    "        leads_index_lst[i]=1\n",
    "leads_new['Script To Leads']=leads_index_lst"
   ]
  },
  {
   "cell_type": "code",
   "execution_count": 74,
   "metadata": {},
   "outputs": [],
   "source": [
    "#create ['Script To Leads'] in instapage dataset\n",
    "instapage_new['Script To Leads']='NA'"
   ]
  },
  {
   "cell_type": "code",
   "execution_count": 75,
   "metadata": {},
   "outputs": [],
   "source": [
    "#2.3.2 Records that are not transferred\n",
    "script_2_leads_records_vid_lst= script_2_leads_records['Visit Id'].tolist() #have unknown and unknown id\n",
    "script_new_known_id_lst=script_log_new.loc[(script_log_new['Visit ID']!='Unknown')&(script_log_new['Visit ID']!='[VisitId]')]['Visit ID'].tolist()"
   ]
  },
  {
   "cell_type": "code",
   "execution_count": 76,
   "metadata": {},
   "outputs": [],
   "source": [
    "#factors in script(with known id) but not in leads(script related)\n",
    "list9 = [x for x in script_new_known_id_lst if x not in script_2_leads_records_vid_lst] "
   ]
  },
  {
   "cell_type": "code",
   "execution_count": 77,
   "metadata": {},
   "outputs": [],
   "source": [
    "lst=[]\n",
    "for i in script_log_new.index:\n",
    "    if (script_log_new['Visit ID'][i] in list9) or (script_log_new['Visit ID'][i]=='Unknown') or (script_log_new['Visit ID'][i]=='[VisitId]'):\n",
    "        lst.append(i)\n",
    "s1_script_2_leads=script_log_new.iloc[lst]"
   ]
  },
  {
   "cell_type": "code",
   "execution_count": 78,
   "metadata": {},
   "outputs": [],
   "source": [
    "s1_script_2_leads_DELF=s1_script_2_leads['Date_Email_Location_Freq'].tolist()\n",
    "script_2_leads_records_DELF=script_2_leads_records['Date_Email_Location_Freq'].tolist()"
   ]
  },
  {
   "cell_type": "code",
   "execution_count": 79,
   "metadata": {},
   "outputs": [],
   "source": [
    "#factors in S1 DELF but not in leads(insta related) DELF\n",
    "list10 = [x for x in s1_script_2_leads_DELF if x not in script_2_leads_records_DELF] "
   ]
  },
  {
   "cell_type": "code",
   "execution_count": 80,
   "metadata": {},
   "outputs": [],
   "source": [
    "lst=[]\n",
    "for i in script_log_new.index:\n",
    "    if script_log_new['Date_Email_Location_Freq'][i] in list10:\n",
    "        lst.append(i)\n",
    "not_transferred_script_2_leads_record=script_log_new.loc[lst]"
   ]
  },
  {
   "cell_type": "code",
   "execution_count": 81,
   "metadata": {},
   "outputs": [],
   "source": [
    "#create ['Script To Leads'] in script dataset\n",
    "script_index_lst=[1]*script_log_new.shape[0]\n",
    "for i in script_log_new.index:\n",
    "    if i in not_transferred_script_2_leads_record.index.tolist():\n",
    "        script_index_lst[i]=0\n",
    "script_log_new['Script To Leads']=script_index_lst"
   ]
  },
  {
   "cell_type": "code",
   "execution_count": 82,
   "metadata": {},
   "outputs": [],
   "source": [
    "#create ['Script To Leads Based On Visit ID'] in script dataset\n",
    "script_index_lst=[0]*script_log_new.shape[0]\n",
    "for i in script_log_new.index:\n",
    "    if (script_log_new['Script To Leads'][i]==1) and (script_log_new['Visit ID'][i]!='Unknown') and (script_log_new['Visit ID'][i]!='[VisitId]'):\n",
    "        script_index_lst[i]=1\n",
    "script_log_new['Script To Leads Based On Visit ID']=script_index_lst"
   ]
  },
  {
   "cell_type": "code",
   "execution_count": 83,
   "metadata": {},
   "outputs": [],
   "source": [
    "#create ['Script To Leads Based On Visit ID'] in Leads dataset \n",
    "script_to_leads_based_on_vid_in_scriptSet=script_log_new.loc[script_log_new['Script To Leads Based On Visit ID']==1]['Visit ID'].tolist()\n",
    "leads_index_lst=[0]*leads_new.shape[0]\n",
    "for i in leads_new.index:\n",
    "    if leads_new['Visit Id'][i] in script_to_leads_based_on_vid_in_scriptSet:\n",
    "        leads_index_lst[i]=1\n",
    "leads_new['Script To Leads Based On Visit ID']=leads_index_lst"
   ]
  },
  {
   "cell_type": "code",
   "execution_count": 84,
   "metadata": {},
   "outputs": [],
   "source": [
    "#create ['Script To Leads Based On Visit ID'] in instapage, and fill in 'NA'\n",
    "instapage_new['Script To Leads Based On Visit ID']='NA'"
   ]
  },
  {
   "cell_type": "code",
   "execution_count": 85,
   "metadata": {},
   "outputs": [],
   "source": [
    "#create['Script To Leads Based On Date_Email_Location_Freq ID'] in Script dataset\n",
    "script_index_lst=[0]*script_log_new.shape[0]\n",
    "for i in script_log_new.index:\n",
    "    if (script_log_new['Script To Leads'][i]==1) and ((script_log_new['Visit ID'][i]=='Unknown') or (script_log_new['Visit ID'][i]=='[VisitId]')):\n",
    "        script_index_lst[i]=1\n",
    "script_log_new['Script To Leads Based On Date_Email_Location_Freq ID']=script_index_lst"
   ]
  },
  {
   "cell_type": "code",
   "execution_count": 86,
   "metadata": {},
   "outputs": [],
   "source": [
    "#create ['Script To Leads Based On Date_Email_Location_Freq ID'] in Leads dataset \n",
    "script_to_leads_based_on_wenyiID_in_scriptSet=script_log_new.loc[script_log_new['Script To Leads Based On Date_Email_Location_Freq ID']==1]['Visit ID'].tolist()\n",
    "leads_index_lst=[0]*leads_new.shape[0]\n",
    "for i in leads_new.index:\n",
    "    if leads_new['Visit Id'][i] in script_to_leads_based_on_wenyiID_in_scriptSet:\n",
    "        leads_index_lst[i]=1\n",
    "leads_new['Script To Leads Based On Date_Email_Location_Freq ID']=leads_index_lst"
   ]
  },
  {
   "cell_type": "code",
   "execution_count": 87,
   "metadata": {},
   "outputs": [],
   "source": [
    "#create ['Script To Leads Based On Date_Email_Location_Freq ID'] in Insta dataset and fill in with 'NA'\n",
    "instapage_new['Script To Leads Based On Date_Email_Location_Freq ID']='NA'"
   ]
  },
  {
   "cell_type": "markdown",
   "metadata": {},
   "source": [
    "## 2.4 Datasets Combination of Redirect script, Insta and Leads\n",
    "Make 3 data source files into 1 so that we can make visuals in Power BI"
   ]
  },
  {
   "cell_type": "code",
   "execution_count": 88,
   "metadata": {},
   "outputs": [],
   "source": [
    "#Add \"Data Source\" column in Script Log and Leads, unify text in Instapage's Data Source' column\n",
    "script_log_new['Data Source']='Redirect Script'\n",
    "leads_new['Data Source']='Leads'\n",
    "instapage_new['Data Source']='Instapage'"
   ]
  },
  {
   "cell_type": "code",
   "execution_count": 89,
   "metadata": {},
   "outputs": [],
   "source": [
    "#Add \"Leads Data Source\",'LEADID' \"Location Guest \"columns in Script Log and Instapage and fill with 'NA'\n",
    "script_log_new['Leads Data Source']='NA'\n",
    "instapage_new['Leads Data Source']='NA'\n",
    "script_log_new['LEADID']='NA'\n",
    "instapage_new['LEADID']='NA'\n",
    "script_log_new['Location Guest']='NA'\n",
    "instapage_new['Location Guest']='NA'"
   ]
  },
  {
   "cell_type": "code",
   "execution_count": 90,
   "metadata": {},
   "outputs": [],
   "source": [
    "#Unify names \n",
    "script_log_new = script_log_new.rename({\"CST\":\"Date\",\"Location Id\":\"Location\"}, axis='columns') \n",
    "instapage_new=instapage_new.rename({\"location\":\"Location\",\"email\":\"Email\"},axis='columns')\n",
    "leads_new=leads_new.rename({\"Created Time\":\"Date\",\"Visit Id\":\"Visit ID\",\"TappedIn Data Source\":\"Leads Data Source\"},axis='columns')"
   ]
  },
  {
   "cell_type": "code",
   "execution_count": 91,
   "metadata": {},
   "outputs": [],
   "source": [
    "#Extract columns\n",
    "column_lst=['Date','Location','Email','Visit ID','Date_Email_Location_Freq','Data Source','Leads Data Source','LEADID','Location Guest','Script To Insta','Script To Insta Based On Visit ID','Script To Insta Based On Date_Email_Location_Freq ID',\n",
    "            'Insta To Leads','Insta To Leads Based On Visit ID','Insta To Leads Based On Date_Email_Location_Freq ID','Script To Leads','Script To Leads Based On Visit ID','Script To Leads Based On Date_Email_Location_Freq ID']\n",
    "script_log_new_extract=script_log_new[column_lst]\n",
    "instapage_new_extract=instapage_new[column_lst]\n",
    "leads_new_extract=leads_new[column_lst]"
   ]
  },
  {
   "cell_type": "code",
   "execution_count": 92,
   "metadata": {},
   "outputs": [],
   "source": [
    "#conbine 3 in 1\n",
    "result = script_log_new_extract.append([instapage_new_extract,leads_new_extract], ignore_index=True)"
   ]
  },
  {
   "cell_type": "code",
   "execution_count": 93,
   "metadata": {},
   "outputs": [],
   "source": [
    "#export csv\n",
    "result.to_csv('final_ToLeads.csv')"
   ]
  },
  {
   "cell_type": "code",
   "execution_count": 94,
   "metadata": {},
   "outputs": [
    {
     "data": {
      "text/plain": [
       "0                          NA\n",
       "1                          NA\n",
       "2                          NA\n",
       "3                          NA\n",
       "4                          NA\n",
       "                 ...         \n",
       "151105    2883279000012418035\n",
       "151106    2883279000009870036\n",
       "151107    2883279000012411012\n",
       "151108    2883279000012411012\n",
       "151109    2883279000012415025\n",
       "Name: Location Guest, Length: 151110, dtype: object"
      ]
     },
     "execution_count": 94,
     "metadata": {},
     "output_type": "execute_result"
    }
   ],
   "source": [
    "result['Location Guest']"
   ]
  },
  {
   "cell_type": "code",
   "execution_count": null,
   "metadata": {},
   "outputs": [],
   "source": []
  },
  {
   "cell_type": "markdown",
   "metadata": {},
   "source": [
    "# 3. Data check II (for Leads to CRM Contacts)\n",
    "## 3.1 Calculation"
   ]
  },
  {
   "cell_type": "code",
   "execution_count": 95,
   "metadata": {},
   "outputs": [
    {
     "data": {
      "text/html": [
       "<div>\n",
       "<style scoped>\n",
       "    .dataframe tbody tr th:only-of-type {\n",
       "        vertical-align: middle;\n",
       "    }\n",
       "\n",
       "    .dataframe tbody tr th {\n",
       "        vertical-align: top;\n",
       "    }\n",
       "\n",
       "    .dataframe thead th {\n",
       "        text-align: right;\n",
       "    }\n",
       "</style>\n",
       "<table border=\"1\" class=\"dataframe\">\n",
       "  <thead>\n",
       "    <tr style=\"text-align: right;\">\n",
       "      <th></th>\n",
       "      <th>CONTACTID</th>\n",
       "      <th>Email</th>\n",
       "      <th>Created Time</th>\n",
       "      <th>Location</th>\n",
       "      <th>Email Opt Out</th>\n",
       "      <th>User Type</th>\n",
       "      <th>User ID</th>\n",
       "      <th>Data Source</th>\n",
       "    </tr>\n",
       "  </thead>\n",
       "  <tbody>\n",
       "    <tr>\n",
       "      <td>0</td>\n",
       "      <td>2883279000024240693</td>\n",
       "      <td>rejiveon@yahoo.com</td>\n",
       "      <td>2020-01-20</td>\n",
       "      <td>Unknown</td>\n",
       "      <td>No</td>\n",
       "      <td>Unique User</td>\n",
       "      <td>rejiveon@yahoo.com</td>\n",
       "      <td>CRM Contacts</td>\n",
       "    </tr>\n",
       "    <tr>\n",
       "      <td>1</td>\n",
       "      <td>2883279000024230708</td>\n",
       "      <td>gwendoss@att.net</td>\n",
       "      <td>2020-01-20</td>\n",
       "      <td>Unknown</td>\n",
       "      <td>No</td>\n",
       "      <td>Unique User</td>\n",
       "      <td>gwendoss@att.net</td>\n",
       "      <td>CRM Contacts</td>\n",
       "    </tr>\n",
       "    <tr>\n",
       "      <td>2</td>\n",
       "      <td>2883279000024232647</td>\n",
       "      <td>clarkeyc@gmail.com</td>\n",
       "      <td>2020-01-20</td>\n",
       "      <td>TrophyRoom-Chicago</td>\n",
       "      <td>No</td>\n",
       "      <td>Location User</td>\n",
       "      <td>clarkeyc@gmail.com - TrophyRoom-Chicago</td>\n",
       "      <td>CRM Contacts</td>\n",
       "    </tr>\n",
       "    <tr>\n",
       "      <td>3</td>\n",
       "      <td>2883279000024208720</td>\n",
       "      <td>bgrayer79@gmail.com</td>\n",
       "      <td>2020-01-20</td>\n",
       "      <td>CajunBoilandBar-OakPark</td>\n",
       "      <td>No</td>\n",
       "      <td>Location User</td>\n",
       "      <td>bgrayer79@gmail.com - CajunBoilandBar-OakPark</td>\n",
       "      <td>CRM Contacts</td>\n",
       "    </tr>\n",
       "    <tr>\n",
       "      <td>4</td>\n",
       "      <td>2883279000024206808</td>\n",
       "      <td>natoris43@gmail.com</td>\n",
       "      <td>2020-01-20</td>\n",
       "      <td>CajunBoilandBar-OakPark</td>\n",
       "      <td>No</td>\n",
       "      <td>Location User</td>\n",
       "      <td>natoris43@gmail.com - CajunBoilandBar-OakPark</td>\n",
       "      <td>CRM Contacts</td>\n",
       "    </tr>\n",
       "  </tbody>\n",
       "</table>\n",
       "</div>"
      ],
      "text/plain": [
       "             CONTACTID                Email Created Time  \\\n",
       "0  2883279000024240693   rejiveon@yahoo.com   2020-01-20   \n",
       "1  2883279000024230708     gwendoss@att.net   2020-01-20   \n",
       "2  2883279000024232647   clarkeyc@gmail.com   2020-01-20   \n",
       "3  2883279000024208720  bgrayer79@gmail.com   2020-01-20   \n",
       "4  2883279000024206808  natoris43@gmail.com   2020-01-20   \n",
       "\n",
       "                  Location Email Opt Out      User Type  \\\n",
       "0                  Unknown            No    Unique User   \n",
       "1                  Unknown            No    Unique User   \n",
       "2       TrophyRoom-Chicago            No  Location User   \n",
       "3  CajunBoilandBar-OakPark            No  Location User   \n",
       "4  CajunBoilandBar-OakPark            No  Location User   \n",
       "\n",
       "                                         User ID   Data Source  \n",
       "0                             rejiveon@yahoo.com  CRM Contacts  \n",
       "1                               gwendoss@att.net  CRM Contacts  \n",
       "2        clarkeyc@gmail.com - TrophyRoom-Chicago  CRM Contacts  \n",
       "3  bgrayer79@gmail.com - CajunBoilandBar-OakPark  CRM Contacts  \n",
       "4  natoris43@gmail.com - CajunBoilandBar-OakPark  CRM Contacts  "
      ]
     },
     "execution_count": 95,
     "metadata": {},
     "output_type": "execute_result"
    }
   ],
   "source": [
    "contacts_new.head()"
   ]
  },
  {
   "cell_type": "code",
   "execution_count": 96,
   "metadata": {},
   "outputs": [
    {
     "data": {
      "text/plain": [
       "array(['Unique User', 'Location User', 'TappedIn Sales', 'Unknown'],\n",
       "      dtype=object)"
      ]
     },
     "execution_count": 96,
     "metadata": {},
     "output_type": "execute_result"
    }
   ],
   "source": [
    "contacts_new['User Type'].unique()"
   ]
  },
  {
   "cell_type": "code",
   "execution_count": 97,
   "metadata": {},
   "outputs": [],
   "source": [
    "#Unique CONTACTID in Leads\n",
    "leads_unique_CONTACTID_lst=leads_new['Location Guest'].unique().tolist()\n",
    "#Unique Email in leads\n",
    "leads_unique_email_lst=leads_new['Email'].unique().tolist()"
   ]
  },
  {
   "cell_type": "code",
   "execution_count": 98,
   "metadata": {},
   "outputs": [
    {
     "data": {
      "text/plain": [
       "17610"
      ]
     },
     "execution_count": 98,
     "metadata": {},
     "output_type": "execute_result"
    }
   ],
   "source": [
    "#how many location user are from Leads\n",
    "contacts_location_user=contacts_new.loc[contacts_new['User Type']=='Location User']\n",
    "contacts_location_user_lst=contacts_location_user['CONTACTID'].tolist()\n",
    "list_1 = [x for x in contacts_location_user_lst if x in leads_unique_CONTACTID_lst]\n",
    "len(list_1)"
   ]
  },
  {
   "cell_type": "code",
   "execution_count": 115,
   "metadata": {},
   "outputs": [
    {
     "data": {
      "text/plain": [
       "18755"
      ]
     },
     "execution_count": 115,
     "metadata": {},
     "output_type": "execute_result"
    }
   ],
   "source": [
    "len(leads_unique_CONTACTID_lst)"
   ]
  },
  {
   "cell_type": "code",
   "execution_count": 99,
   "metadata": {},
   "outputs": [],
   "source": [
    "#craete 'Leads To Location User' column in Contacts dataset \n",
    "contacts_index_lst=[0] * contacts_new.shape[0]\n",
    "for i in contacts_new.index:\n",
    "    if (contacts_new['CONTACTID'][i] in list_1) and (contacts_new['User Type'][i]=='Location User'):\n",
    "        contacts_index_lst[i]=1\n",
    "contacts_new['Leads To Location User']=contacts_index_lst"
   ]
  },
  {
   "cell_type": "code",
   "execution_count": 100,
   "metadata": {},
   "outputs": [
    {
     "data": {
      "text/plain": [
       "17469"
      ]
     },
     "execution_count": 100,
     "metadata": {},
     "output_type": "execute_result"
    }
   ],
   "source": [
    "##how many Unique user are from Leads\n",
    "contacts_unique_user=contacts_new.loc[(contacts_new['User Type']=='Unique User')]\n",
    "contacts_unique_user_lst=contacts_unique_user['Email'].tolist()\n",
    "list_2 = [x for x in contacts_unique_user_lst if x in leads_unique_email_lst]\n",
    "len(list_2)"
   ]
  },
  {
   "cell_type": "code",
   "execution_count": 101,
   "metadata": {},
   "outputs": [],
   "source": [
    "#craete 'Leads To Unique User' column in Contacts dataset \n",
    "contacts_index_lst=[0] * contacts_new.shape[0]\n",
    "for i in contacts_new.index:\n",
    "    if (contacts_new['Email'][i] in list_2) and (contacts_new['User Type'][i]=='Unique User'):\n",
    "        contacts_index_lst[i]=1\n",
    "contacts_new['Leads To Unique User']=contacts_index_lst"
   ]
  },
  {
   "cell_type": "markdown",
   "metadata": {},
   "source": [
    "## 3.2 Datasets Combination of Leads and Contacts"
   ]
  },
  {
   "cell_type": "code",
   "execution_count": 102,
   "metadata": {},
   "outputs": [],
   "source": [
    "leads_cb=leads_new.copy()"
   ]
  },
  {
   "cell_type": "code",
   "execution_count": 103,
   "metadata": {},
   "outputs": [],
   "source": [
    "leads_cb=leads_cb[['Location Guest','Email','Date','Location','Data Source']]"
   ]
  },
  {
   "cell_type": "code",
   "execution_count": 104,
   "metadata": {
    "scrolled": true
   },
   "outputs": [],
   "source": [
    "leads_cb['Email Opt Out']='NA'\n",
    "leads_cb['User Type']='NA'\n",
    "leads_cb['User ID']='NA'\n",
    "leads_cb['Leads To Location User']='NA'\n",
    "leads_cb['Leads To Unique User']='NA'"
   ]
  },
  {
   "cell_type": "code",
   "execution_count": 105,
   "metadata": {},
   "outputs": [
    {
     "data": {
      "text/plain": [
       "(74498, 10)"
      ]
     },
     "execution_count": 105,
     "metadata": {},
     "output_type": "execute_result"
    }
   ],
   "source": [
    "leads_cb.shape"
   ]
  },
  {
   "cell_type": "code",
   "execution_count": 106,
   "metadata": {},
   "outputs": [],
   "source": [
    "#rename\n",
    "leads_cb=leads_cb.rename({\"Location Guest\":\"CONTACTID\",\"email\":\"Email\"},axis='columns')\n",
    "contacts_new=contacts_new.rename({\"Created Time\":\"Date\"},axis='columns')"
   ]
  },
  {
   "cell_type": "code",
   "execution_count": 108,
   "metadata": {
    "scrolled": true
   },
   "outputs": [
    {
     "name": "stderr",
     "output_type": "stream",
     "text": [
      "C:\\Users\\Martin\\Anaconda3\\lib\\site-packages\\pandas\\core\\frame.py:7123: FutureWarning: Sorting because non-concatenation axis is not aligned. A future version\n",
      "of pandas will change to not sort by default.\n",
      "\n",
      "To accept the future behavior, pass 'sort=False'.\n",
      "\n",
      "To retain the current behavior and silence the warning, pass 'sort=True'.\n",
      "\n",
      "  sort=sort,\n"
     ]
    }
   ],
   "source": [
    "#conbine 2 in 1\n",
    "result2 = contacts_new.append([leads_cb], ignore_index=True)"
   ]
  },
  {
   "cell_type": "code",
   "execution_count": 109,
   "metadata": {},
   "outputs": [],
   "source": [
    "#export csv\n",
    "result2.to_csv('final_ToContacts.csv')"
   ]
  },
  {
   "cell_type": "markdown",
   "metadata": {},
   "source": [
    "# 4. Data check II (for CRM Contacts to Campaign)\n",
    "## 4.1 Calculation"
   ]
  },
  {
   "cell_type": "code",
   "execution_count": null,
   "metadata": {},
   "outputs": [],
   "source": [
    "#how many Campaign contacts are from CRM\n",
    "contacts_subscribers=contacts_new.loc[(contacts_new['User Type']=='Location User') & (contacts_new['Email Opt Out']=='No')]"
   ]
  }
 ],
 "metadata": {
  "kernelspec": {
   "display_name": "Python 3",
   "language": "python",
   "name": "python3"
  },
  "language_info": {
   "codemirror_mode": {
    "name": "ipython",
    "version": 3
   },
   "file_extension": ".py",
   "mimetype": "text/x-python",
   "name": "python",
   "nbconvert_exporter": "python",
   "pygments_lexer": "ipython3",
   "version": "3.7.4"
  }
 },
 "nbformat": 4,
 "nbformat_minor": 2
}
